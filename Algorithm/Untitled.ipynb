{
 "cells": [
  {
   "cell_type": "code",
   "execution_count": null,
   "metadata": {},
   "outputs": [],
   "source": [
    "# Treaky rock paper scissors\n",
    "import random\n",
    "flag = 0\n",
    "\n",
    "d_rpc = {}\n",
    "d_player = {1:'Computer ultimate win', 2:'User ultimate win'}\n",
    "while flag < 1:\n",
    "    # input rock, paper, scissors from both entities(computer and user)\n",
    "    v_com = random.randint(0,2)\n",
    "    \n",
    "    f_vusr = 0\n",
    "    while f_vusr < 1:\n",
    "        v_usr = input('1. Rock, 2. Paper, 3. Scissors')\n",
    "        if v_usr != 1 or v_usr != 2 or v_usr != 3:\n",
    "            print('input correct value')\n",
    "        else:\n",
    "            print('Computer :', v_com)\n",
    "            print('User :', v_usr)\n",
    "            v_usr -= 1     # to make the initial value of the v_usr start from 0\n",
    "            f_vusr = 1\n",
    "        \n",
    "    # judgement\n",
    "    delta = v_usr - v_com\n",
    "    if delta == 0:     # a session ended in a draw\n",
    "        print('Draw !')\n",
    "        if flag != 0:\n",
    "            result = d_player[flag]\n",
    "    elif delta == 1 or delta == -2:     # a session ended with the user's win\n",
    "        print('')\n",
    "        flag = 2\n",
    "    elif delta == -1 or delta == 2:     # a session ended with the computer's win\n",
    "        flag = 1\n",
    "            "
   ]
  }
 ],
 "metadata": {
  "kernelspec": {
   "display_name": "Python 3",
   "language": "python",
   "name": "python3"
  },
  "language_info": {
   "codemirror_mode": {
    "name": "ipython",
    "version": 3
   },
   "file_extension": ".py",
   "mimetype": "text/x-python",
   "name": "python",
   "nbconvert_exporter": "python",
   "pygments_lexer": "ipython3",
   "version": "3.7.3"
  }
 },
 "nbformat": 4,
 "nbformat_minor": 2
}
