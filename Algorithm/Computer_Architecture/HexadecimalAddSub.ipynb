{
 "cells": [
  {
   "cell_type": "markdown",
   "metadata": {},
   "source": [
    "# Hexadecial addition and substraction"
   ]
  },
  {
   "cell_type": "code",
   "execution_count": null,
   "metadata": {},
   "outputs": [],
   "source": [
    "# function to generate a hexadecimal number from a random decimal number.\n",
    "import random\n",
    "\n",
    "d_hex_from_dec = {}\n",
    "\n",
    "def gen_hexnum(r_a, r_b):\n",
    "    const = 16\n",
    "    def chk_exp(num):       # num will be from random int\n",
    "        i = 0\n",
    "        flag = 0     # flag for whileloop\n",
    "        while flag < 1:\n",
    "            if num < (const**i) :\n",
    "                flag = 1     # flag on\n",
    "                exp_max = i -1\n",
    "            i += 1\n",
    "    \n",
    "    l_coefficient = []\n",
    "    def chk_coefficient(num):\n",
    "        flag = 0\n",
    "        i = 0\n",
    "        while flag < 1 :\n",
    "            for c in range(1, const):\n",
    "                if num < (c * const**i):\n",
    "                    l_coefficient.append(c)\n",
    "                    break\n",
    "            i += 1\n",
    "    decnum = random.randint(r_a, r_b)\n",
    "    str_decnum = str(decnum)\n",
    "    for i in range(len(str_decnum)):\n",
    "        str_decnum[i]\n",
    "    return "
   ]
  }
 ],
 "metadata": {
  "kernelspec": {
   "display_name": "Python 3",
   "language": "python",
   "name": "python3"
  },
  "language_info": {
   "codemirror_mode": {
    "name": "ipython",
    "version": 3
   },
   "file_extension": ".py",
   "mimetype": "text/x-python",
   "name": "python",
   "nbconvert_exporter": "python",
   "pygments_lexer": "ipython3",
   "version": "3.7.3"
  }
 },
 "nbformat": 4,
 "nbformat_minor": 2
}
