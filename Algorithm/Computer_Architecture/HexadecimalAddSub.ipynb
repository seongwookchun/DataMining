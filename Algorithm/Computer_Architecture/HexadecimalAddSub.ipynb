{
 "cells": [
  {
   "cell_type": "markdown",
   "metadata": {},
   "source": [
    "# Hexadecial addition and substraction"
   ]
  },
  {
   "cell_type": "code",
   "execution_count": 1,
   "metadata": {},
   "outputs": [],
   "source": [
    "# function to generate a hexadecimal number from a random decimal number.\n",
    "import random\n",
    "\n",
    "\n",
    "def gen_decnum(num, f_list=False):     # generator returns a decimal number from a hexadecimal number\n",
    "    if f_list == False:\n",
    "        exp_max = chk_exp(num)\n",
    "        l_coefficient = chk_coefficient(num)\n",
    "    else:     # type(num) : list\n",
    "        exp_max = len(num) -1\n",
    "        l_coefficient = num\n",
    "        \n",
    "    res = 0\n",
    "    for i in range(exp_max +1):\n",
    "        res += l_coefficient[i] * 16**(exp_max -i)\n",
    "\n",
    "    return res\n",
    "\n",
    "def gen_hexnum(r_a, r_b, f_prettify=False):\n",
    "    # functional_global variable\n",
    "#     print('f_prettify', f_prettify)\n",
    "    const = 16\n",
    "    d_hex_from_dec = {10:'A', 11:'B', 12:'C', 13:'D', 14:'E', 15:'F'}\n",
    "\n",
    "    def chk_exp(num):       # num will be from random int\n",
    "        i = 0\n",
    "        flag = 0     # flag for whileloop\n",
    "        while flag < 1:\n",
    "            if num < (const**i) :\n",
    "                print('hi')\n",
    "                flag = 1     # flag on\n",
    "                exp_max = i -1\n",
    "            i += 1\n",
    "\n",
    "        return exp_max\n",
    "\n",
    "\n",
    "    def chk_coefficient(num):     # num will be from random int\n",
    "        l_coefficient = []\n",
    "        exp_max = chk_exp(num)\n",
    "\n",
    "        for i in range(0, exp_max +1) :     # !!! while문 대신 forloop이라는 좋은 기본적인 block(?)이 편리할 수 있음을 기억\n",
    "#             print('i:', i)\n",
    "            for c in range(1, const):\n",
    "#                 print('    c:', c,' #', const, exp_max, -i)\n",
    "                if num < (c * const**(exp_max -i)):     # &insight: == 보다는 > 부등호가 계산시간이 훨씬 빠를 것같다.\n",
    "#                     print('ifblock: appended with', c-1)\n",
    "                    l_coefficient.append(c -1)     # ??coefficient가 0일 때는\n",
    "                    num -= (c-1) * const**(exp_max -i)\n",
    "\n",
    "                    break\n",
    "\n",
    "            if c == const:     # forloop를 다돌았는데도 없는 경우\n",
    "#                 print('outside: appended with', 0)\n",
    "                l_coefficient.append(0)\n",
    "            i += 1\n",
    "\n",
    "\n",
    "        return l_coefficient\n",
    "            \n",
    "    decnum = random.randint(r_a, r_b)\n",
    "#     print('decnum', decnum)\n",
    "    exp_max = chk_exp(decnum)\n",
    "    res = chk_coefficient(decnum)\n",
    "    print('coefficients', res)\n",
    "    \n",
    "    if f_prettify == False:\n",
    "#         print('False case: f_prettify', f_prettify)\n",
    "        return res\n",
    "    else:\n",
    "#         print('True case: f_prettify', f_prettify)\n",
    "        str_res = ''\n",
    "#         print(exp_max)\n",
    "        for i in range(exp_max +1):\n",
    "#             print('i', i, '#', end='')\n",
    "#             print('res[i]', res[i], 'type:', type(res[i]))\n",
    "            try:\n",
    "                str_res += d_hex_from_dec[res[i]]\n",
    "#                 print('try', 'res[i]:', res[i], 'dic:', d_hex_from_dec[res[i]], str_res)\n",
    "            except:\n",
    "#                 print('except', str_res)\n",
    "                str_res += str(res[i])\n",
    "        print('str_res:', str_res)\n",
    "        return str_res"
   ]
  },
  {
   "cell_type": "code",
   "execution_count": 2,
   "metadata": {
    "scrolled": true
   },
   "outputs": [
    {
     "name": "stdout",
     "output_type": "stream",
     "text": [
      "hi\n",
      "hi\n",
      "coefficients [1, 11, 1, 12]\n",
      "b [1, 11, 1, 12]\n",
      "*******************\n",
      "6940\n"
     ]
    }
   ],
   "source": [
    "a = 1*16**3 + 11*16**2 + 1*16**1 + 11 * 16**0\n",
    "b = gen_hexnum(a, a +1)\n",
    "print('b' , b)\n",
    "print('*******************')\n",
    "print(gen_decnum(b, True))"
   ]
  },
  {
   "cell_type": "code",
   "execution_count": 3,
   "metadata": {
    "scrolled": true
   },
   "outputs": [
    {
     "name": "stdout",
     "output_type": "stream",
     "text": [
      "hi\n",
      "hi\n",
      "coefficients [1, 11, 1, 11]\n",
      "str_res: 1B1B\n",
      "1B1B\n"
     ]
    }
   ],
   "source": [
    "print(gen_hexnum(a, a +1, True))"
   ]
  },
  {
   "cell_type": "code",
   "execution_count": null,
   "metadata": {},
   "outputs": [],
   "source": [
    "n_games = int(input('Input number of games. '))\n",
    "n_guesses = int(input('input number of guesses . '))\n",
    "n_digits = int(input('input number of digits. '))\n",
    "for i in range(n_games):\n",
    "    print('round',i+1,'th')\n",
    "    a, b = 0, 0\n",
    "    \n",
    "    print('numbers are being selecting')\n",
    "    while a > b:    \n",
    "        a = gen_hexnum(1*16**n_digits, 1*16**n_digits+1, True)\n",
    "        b = gen_hexnum(1*16**n_digits, 1*16**n_digits+1, True)\n",
    "        print(a, b)\n",
    "    for i in range(n_guesses):\n",
    "        print('  ', a, '\\n', '+', b, end='')\n",
    "        guess = input()\n",
    "        if guess == c:\n",
    "            print('correct!')\n",
    "        elif i == n_guesses:\n",
    "            print('no shots. Next exerciese')\n",
    "        else:\n",
    "            print(n_guesses - i-1, 'shot(s) left')"
   ]
  },
  {
   "cell_type": "markdown",
   "metadata": {},
   "source": [
    "3### "
   ]
  }
 ],
 "metadata": {
  "kernelspec": {
   "display_name": "Python 3",
   "language": "python",
   "name": "python3"
  },
  "language_info": {
   "codemirror_mode": {
    "name": "ipython",
    "version": 3
   },
   "file_extension": ".py",
   "mimetype": "text/x-python",
   "name": "python",
   "nbconvert_exporter": "python",
   "pygments_lexer": "ipython3",
   "version": "3.7.3"
  }
 },
 "nbformat": 4,
 "nbformat_minor": 2
}
